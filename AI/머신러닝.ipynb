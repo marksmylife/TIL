{
 "cells": [
  {
   "cell_type": "markdown",
   "id": "4d819422",
   "metadata": {},
   "source": [
    "### 머신러닝\n",
    "* 앱 수정하지 않고 데이터 기반으로 패턴을 학습, 결과 추론하는 알고리즘 기법\n",
    "* 파이썬 기반 머신러닝 위해선 넘파이, 판다스, 시각화등 패키지 학습 필요"
   ]
  },
  {
   "cell_type": "markdown",
   "id": "f6f0bc2d",
   "metadata": {},
   "source": [
    "### 머신러닝 유형\n",
    "* 지도학습\n",
    "    * 분류\n",
    "        * 학습 위한 다양한 피처와 분류 결정값인 레이블 데이터로 모델 학습 > 테스트 데이터셋에서 미지의 레이블 예측\n",
    "        * 즉, 명확한 정답이 주어진 데이터 선 학습 > 미지의 정답 예측\n",
    "        * 학습 데이터 셋(학습을 위해 주어진), 테스트 데이터 셋(모델 예측 성능 평가)\n",
    "        * 프로세스 : 데이터 세트 분리 > 모델 학습 > 예측 수행 > 평가\n",
    "    * 회귀, 추천시스템, 시각/음성 감지/인지\n",
    "    * 문제(Feature) > Logic > 답(Target, Label)이 있음\n",
    "* 비지도 학습\n",
    "    * 군집화(클러스터링), 차원축소, 토픽 모델링, 문서 군집화\n",
    "* 강화학습"
   ]
  },
  {
   "cell_type": "markdown",
   "id": "41033d8c",
   "metadata": {},
   "source": [
    "### 머신러닝 단점\n",
    "1. 데이터에 너무 의존적(Garbage in, Garbage out)\n",
    "2. 과적합 : 학습데이터에만 적절, 실제 부적절수도\n",
    "3. 블랙박스 : 알고리즘 논리적 이해 어려울 수도\n",
    "4. 데이터, 머신러닝 만능주의 X : 환상일 뿐, 데이터 특성 파익 및 최적알고리즘, 파라미터 구성할 수 있는 능력 필요"
   ]
  },
  {
   "cell_type": "markdown",
   "id": "9dd0a516",
   "metadata": {},
   "source": [
    "### 주요 패키지\n",
    "* 머신러닝 패키지 : scikitlearn\n",
    "* 배열/선형대수/통계 패키지 : Numpy, scipy\n",
    "* 데이터 핸들링 : pandas\n",
    "* 시각화 : matplotlib, seaborn\n",
    "* 대화형 파이썬 툴 : jupyter"
   ]
  },
  {
   "cell_type": "markdown",
   "id": "ca69b3c0",
   "metadata": {},
   "source": [
    "### 용어 정리\n",
    "* 피처(Feature) : 데이터 셋의 일반 속성, 타겟값 제외한 나머지 속성\n",
    "* 레이블, 클래스, 타겟(값), 결정(값)\n",
    "    * 지도학습 시 데이터 학습을 위해 주어지는 정답 데이터\n",
    "    * 지도 학습 중 분류의 경우는 레이블 또는 클래스로 말함"
   ]
  },
  {
   "cell_type": "code",
   "execution_count": 1,
   "id": "87f4e663",
   "metadata": {},
   "outputs": [
    {
     "data": {
      "text/plain": [
       "(array([1., 0., 0., 1., 0., 0., 1., 0., 0., 1.]),\n",
       " array([1. , 1.3, 1.6, 1.9, 2.2, 2.5, 2.8, 3.1, 3.4, 3.7, 4. ]),\n",
       " <BarContainer object of 10 artists>)"
      ]
     },
     "execution_count": 1,
     "metadata": {},
     "output_type": "execute_result"
    },
    {
     "data": {
      "image/png": "[encoded data removed]",
      "text/plain": [
       "<Figure size 640x480 with 1 Axes>"
      ]
     },
     "metadata": {},
     "output_type": "display_data"
    }
   ],
   "source": [
    "import sklearn\n",
    "import matplotlib.pyplot as plt\n",
    "%matplotlib inline\n",
    "import seaborn\n",
    "import numpy as np\n",
    "\n",
    "array = np.array([1,2,3,4])\n",
    "plt.hist(array)"
   ]
  },
  {
   "cell_type": "markdown",
   "id": "e302e540",
   "metadata": {},
   "source": [
    "### 넘파이\n",
    "* ndarray : N 차원(Dimension) 배열(Array) 객체 \n",
    "    * 1차원[] / 2차원[[]] / 3차원 [[[]]]\n",
    "    * ndarray = np.array([1,2,3])\n",
    "        * 인자로 주로 파이썬 list 또는 ndarray 입력\n",
    "    * 속성 ndarray.shape / 차원 ndarray.ndim\n",
    "    * 타입(type)\n",
    "        * 같은 array 내의 데이터 타입은 같은 데이터 타입만 가능(숫자, 문자, 불 등)\n",
    "        * 숫자는 int, unsigned, float\n",
    "        * 변환 : astype() > 메모리 절약 위해 사용, float 보단 int가 메모리 절약\n",
    "        * str > float > int 순서\n",
    "        \n",
    "* axis 축 \n",
    "    * 1차원 [1,2,3,4] (4,0)\n",
    "    * 2차원 [1,2,3,4] (2,4) 기본단위가 뒤에서부터, 즉 4가 axis 0 \n",
    "    * 3차원 [1,2,3,4] (4,2,4) 뒤의 4가 axis 0 / 2가 axis 1 / 앞의 4가 aixs 2\n",
    "\n",
    "* 생성\n",
    "    * np.arrange(10) : [0 1 2 3 4 5 6 7 8 9]\n",
    "    * np.zeros((3,2). dtpye='int32') : [[0 0] [0 0] [0 0]]\n",
    "    * np.ones((3,2))\n",
    "    * np.reshape(2,5) : 2 * 5로 ndarray 변환\n",
    "    * np.reshape(-1, 5) : col은 5로 고정, row은 axis 크기 자동 생성 /\n",
    "        * 1차원 변환 (-1,) / 2차원 변환 (-1,1) \n",
    "        \n",
    "* 인덱싱\n",
    "    * array1[0 1 2 3 4 5 6 7 8 9]\n",
    "    * 슬라이싱 : array[:,:] > DF의 iloc[] 유사\n",
    "    * 팬시 인덱싱 : array[[2,4,7]] : [3,5,8]\n",
    "    * 불린 인덱싱 : array1d = np.arange(start=1, stop=10)\n",
    "                    array3 = array1d[array1d > 5] # 5보다 큰 값\n",
    "\n",
    "\n",
    "* 배열의 정렬\n",
    "    * sort()\n",
    "        * np.sort(ndarray) : 인자로 들어원 원 행렬 그대로 유지한 채 원 행렬의 정렬된 행렬 반환\n",
    "        * ndarray.sort() : 원 행렬 자체를 정렬한 형태로 반환, 반환값은 None / 즉, 원본이 바뀜\n",
    "        * 둘 다 오른차순이 기본, 내림차순 위해선 [::-1] 필요\n",
    "        * 2차원에서 axis=0 행끼리 / axis=1 열끼리\n",
    "    * argsort()\n",
    "        * 키맵핑 시 유용"
   ]
  },
  {
   "cell_type": "markdown",
   "id": "bf38da44",
   "metadata": {},
   "source": [
    "### 판다스\n",
    "* 2차원 데이터 핸들링 위해서는 판다스 사용하자!\n",
    "* 너무 파고들지 말고 우선 해보고 부딛히면 다양한 API 찾아서 실력 향상\n",
    "* import pandas as pd\n",
    "* 여러개 col이면 []로 감싸기\n",
    "* read_csv() : csv 파일 로드, sep 인자 다양\n",
    "* head(), tail() : DF의 기본 5개 데이터 추출 / ()안에 숫자 표기 가능\n",
    "* pd.set_option('display.max_rows', 1000), ('display.max_colwidth', 100), ('display.max_columns', 100)\n",
    "* shape : 행과 열 크기 속성\n",
    "* info() : DF 내 칼람명, 데이터 타임, Null 건수, 데이터 건수 제공\n",
    "* describe() : 데이터의 평균, 표준편차, 4분위 분포도 등 제공\n",
    "* DF 생성 : 딕셔너리로 생성 가능\n",
    "    * dic1 = {'Name': ['Chulmin', 'Eunkyung','Jinwoong','Soobeom'],\n",
    "                'Year': [2011, 2016, 2015, 2015],\n",
    "                'Gender': ['Male', 'Female', 'Male', 'Male']}\n",
    "* 칼럼, 인덱스명 호출\n",
    "    * print(\"columns:\",titanic_df.columns)\n",
    "    * print(\"index:\",titanic_df.index)\n",
    "    * print(\"index value:\", titanic_df.index.values)\n",
    "    * inplace=False > 원본 그대로\n",
    "    \n",
    "* Index\n",
    "    * DF, Series를 고유 식별하는 개체(별도 col 값은 아님)\n",
    "    * 연산 시에는 제외됨, 오직 식별용!\n",
    "    * 추출 : DataFrame.index\n",
    "    * 고유한 값만 유지하면 반드시 숫자 아니어도 됨(문자형, 시간도 가능)\n",
    "    * reset_index() : 인덱스 연속된 숫자로 갈아엎음, 기존 인데스는 'index' col로 추가\n",
    "        * drop:False > col 추가 안하고 삭제 / inplace:False > 원본 그대로\n",
    "        \n",
    "* 인덱싱 및 필터링\n",
    "    * [] : 컬럼 기판 필터링 or 불린 인덱싱 필터링\n",
    "        * titanic_df['name'] : 해당 칼럼에 해당 Series 반환\n",
    "        * titanic_df['name','age'] : 해당 칼럼에 해당 DF 반환\n",
    "    * loc[] : 명칭 기반 인덱싱 / iloc[] : 위치 기반 인덱싱\n",
    "        * 인덱스가 바뀌면 > loc[]는 바뀜, iloc[]는 그대로\n",
    "    * 불린 인덱싱 : 조건식에 따른 필터링\n",
    "    \n",
    "* 메소드\n",
    "    * 정렬 : Sort_vlaues(by=)\n",
    "        * 오름차순이 기본(ascending=True)\n",
    "    * 집합연산 : sum, max, min, count, mean\n",
    "    * Groupby(by=) : DFGroupBy 객체를 반환 + aggregation 함수 실행 > DF로 반환 읭!?\n",
    "        * agg내의 인자로 들어가는 Dict객체에 Key값을 가지는 두개의 value가 있을 경우 : 마지막 value로 update\n",
    "        * 같은 종류 연산 시 : titanic_df.groupby('Pclass')['Age'].**agg**([max, min])\n",
    "        * 다른 종류 연산 시 :\n",
    "            * agg_format={'Age':'max', 'SibSp':'sum', 'Fare':'mean'}              titanic_df.groupby('Pclass').agg(agg_format)\n",
    "    * 결손데이터 처리\n",
    "        * isna() : NaN이면 True\n",
    "        * fillna() : 결손데이터 인자를 주어진 값으로 대체\n",
    "    * nunique : 컬럼 내 고유값 파악\n",
    "    * replace(원본, 변환) : 원본을 변환값으로 대체 "
   ]
  },
  {
   "cell_type": "markdown",
   "id": "40623226",
   "metadata": {},
   "source": [
    "### 사이킷런\n",
    "* 왜쓰나? \n",
    "    * 머신러닝 패키지 중에서도 쉽다! 가장 파이썬스럽다\n",
    "    * 머신러닝 위한 다양한 알고리즘, 개발 위한 편리한 프레임워크와 API 제공\n",
    "    * 실전에서 검증됨, 많은 환경에서 사용\n",
    "    * 주로 넘파이와 scipy 기반위에서 구축\n",
    "* 붓꽃 데이터 분류 해보자\n",
    "    * X_train(학습용 피처 데이터), X_test(테스트용 피처 데이터)\n",
    "    * y_train(학습용 타겟 데이터), y_test(테스트용 타겟 데이터)\n",
    "    * 모델 만들기\n",
    "        * 데이터 셋 분리 : X_train, X_test, y_train, y_test =</br>\n",
    "train_test_split(iris_data, iris_label, test_size=0.2, random_state=11)\n",
    "        * 학습 수행 : dt_clf = DecisionTreeClassifier(random_state=11)</br>\n",
    "dt_clf.fit(X_train, y_train)\n",
    "        * 예측 : pred = dt_clf.predict(X_test)\n",
    "        * 평가 : from sklearn.metrics import accuracy_score</br>print('예측 정확도: {0:.4f}'.format(accuracy_score(y_test,pred)))\n",
    "* 기반 프레임워크\n",
    "![\"출처 : https://hun931018.tistory.com/29\"](https://img1.daumcdn.net/thumb/R1280x0/?scode=mtistory2&fname=https%3A%2F%2Fblog.kakaocdn.net%2Fdn%2FtHxOf%2FbtqCbUw5TZM%2F9pkKG6suDzXZK2qwPHpEA1%2Fimg.png)\n",
    "    * train_test_split() : X_train, X_test, y_train, y_test =</br>\n",
    "train_test_split(피처 데이터 셋, 타겟 데이터 셋, test_size=피처셋을 트레인, 테스트로 분리, random_state=11)\n",
    "* 교차 검증\n",
    "    * 학습 데이터 셋 > 학습 데이터 셋 + 검증 데이터 셋으로 나눔\n",
    "    * 검증 데이터 셋(모의고사)으로 모델 성능 우선 평가(테스트 데이터 셋 전에)\n",
    "    * k-fold 교차 검증 : 데이터 셋을 k개로 나눠 k번 검증 평가 > k번 평가의 합/k\n",
    "        * 일반 k 폴드\n",
    "        * Stratified k 폴드\n",
    "            * 블균형 분포도 레일 데이터 집합을 위한 방식\n",
    "            * 학습 데이터와 검증 데이터 셋이 가지는 레이블 분포도 유사하도록 추출\n",
    "        * cross_val_score() : 폴드 세트 추출, 학습, 예측, 평가를 한번에 수행"
   ]
  },
  {
   "cell_type": "code",
   "execution_count": null,
   "id": "1941c2e8",
   "metadata": {},
   "outputs": [],
   "source": []
  }
 ],
 "metadata": {
  "kernelspec": {
   "display_name": "Python 3 (ipykernel)",
   "language": "python",
   "name": "python3"
  },
  "language_info": {
   "codemirror_mode": {
    "name": "ipython",
    "version": 3
   },
   "file_extension": ".py",
   "mimetype": "text/x-python",
   "name": "python",
   "nbconvert_exporter": "python",
   "pygments_lexer": "ipython3",
   "version": "3.11.5"
  }
 },
 "nbformat": 4,
 "nbformat_minor": 5
}
