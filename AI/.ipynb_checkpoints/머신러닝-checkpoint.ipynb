{
 "cells": [
  {
   "cell_type": "markdown",
   "id": "4d819422",
   "metadata": {},
   "source": [
    "## 머신러닝 유형\n",
    "### 지도학습\n",
    " * 분류, 회귀, 추천시스템, 시각/음성 감지/인지\n",
    " * 문제(Feature) > Logic > 답(Target, Label)이 있음\n",
    "### 비지도 학습\n",
    " * 군집화(클러스터링), 차원축소, 토픽 모델링, 문서 군집화\n",
    " ### 강화학습"
   ]
  },
  {
   "cell_type": "markdown",
   "id": "41033d8c",
   "metadata": {},
   "source": [
    "## 머신러닝 단점\n",
    "1. 데이터에 너무 의존적(Garbage in, Garbage out)\n",
    "2. 과적합 : 학습데이터에만 적절, 실제 부적절수도\n",
    "3. 블랙박스 : 알고리즘 논리적 이해 어려울 수도\n",
    "4. 데이터, 머신러닝 만능주의 X : 환상일 뿐, 데이터 특성 파익 및 최적알고리즘, 파라미터 구성할 수 있는 능력 필요"
   ]
  },
  {
   "cell_type": "markdown",
   "id": "9dd0a516",
   "metadata": {},
   "source": [
    "## 주요 패키지\n",
    "* 머신러닝 패키지 : scikitlearn\n",
    "* 배열/선형대수/통계 패키지 : Numpy, scipy\n",
    "* 데이터 핸들링 : pandas\n",
    "* 시각화 : matplotlib, seaborn\n",
    "* 대화형 파이썬 툴 : jupyter"
   ]
  },
  {
   "cell_type": "markdown",
   "id": "e302e540",
   "metadata": {},
   "source": [
    "### 넘파이\n",
    "* ndarray : N 차원(Dimension) 배열(Array) 객체 \n",
    "    * 1차원[] / 2차원[[]] / 3차원 [[[]]]\n",
    "    * ndarray = np.array([1,2,3])\n",
    "        * 인자로 주로 파이썬 list 또는 ndarray 입력\n",
    "    * 속성 ndarray.shape / 차원 ndarray.ndim\n",
    "    * 타입(type)\n",
    "        * 같은 array 내의 데이터 타입은 같은 데이터 타입만 가능(숫자, 문자, 불 등)\n",
    "        * 숫자는 int, unsigned, float\n",
    "        * 변환 : astype() > 메모리 절약 위해 사용, float 보단 int가 메모리 절약\n",
    "        * str > float > int 순서\n",
    "        \n",
    "* axis 축 \n",
    "    * 1차원 [1,2,3,4] (4,0)\n",
    "    * 2차원 [1,2,3,4] (2,4) 기본단위가 뒤에서부터, 즉 4가 axis 0 \n",
    "    * 3차원 [1,2,3,4] (4,2,4) 뒤의 4가 axis 0 / 2가 axis 1 / 앞의 4가 aixs 2\n",
    "\n",
    "* 생성\n",
    "    * np.arrange(10) : [0 1 2 3 4 5 6 7 8 9]\n",
    "    * np.zeros((3,2). dtpye='int32') : [[0 0] [0 0] [0 0]]\n",
    "    * np.ones((3,2))\n",
    "    * np.reshape(2,5) : 2 * 5로 ndarray 변환\n",
    "    * np.reshape(-1, 5) : col은 5로 고정, row은 axis 크기 자동 생성 /\n",
    "        * 1차원 변환 (-1,) / 2차원 변환 (-1,1) "
   ]
  },
  {
   "cell_type": "code",
   "execution_count": 4,
   "id": "57766c1c",
   "metadata": {},
   "outputs": [
    {
     "data": {
      "text/plain": [
       "(array([1., 0., 0., 1., 0., 0., 1., 0., 0., 1.]),\n",
       " array([1. , 1.3, 1.6, 1.9, 2.2, 2.5, 2.8, 3.1, 3.4, 3.7, 4. ]),\n",
       " <BarContainer object of 10 artists>)"
      ]
     },
     "execution_count": 4,
     "metadata": {},
     "output_type": "execute_result"
    },
    {
     "data": {
      "image/png": "[encoded data removed]",
      "text/plain": [
       "<Figure size 640x480 with 1 Axes>"
      ]
     },
     "metadata": {},
     "output_type": "display_data"
    }
   ],
   "source": [
    "import sklearn\n",
    "import matplotlib.pyplot as plt\n",
    "%matplotlib inline\n",
    "import seaborn\n",
    "import numpy as np\n",
    "\n",
    "array = np.array([1,2,3,4])\n",
    "plt.hist(array)"
   ]
  }
 ],
 "metadata": {
  "kernelspec": {
   "display_name": "Python 3 (ipykernel)",
   "language": "python",
   "name": "python3"
  },
  "language_info": {
   "codemirror_mode": {
    "name": "ipython",
    "version": 3
   },
   "file_extension": ".py",
   "mimetype": "text/x-python",
   "name": "python",
   "nbconvert_exporter": "python",
   "pygments_lexer": "ipython3",
   "version": "3.11.5"
  }
 },
 "nbformat": 4,
 "nbformat_minor": 5
}
