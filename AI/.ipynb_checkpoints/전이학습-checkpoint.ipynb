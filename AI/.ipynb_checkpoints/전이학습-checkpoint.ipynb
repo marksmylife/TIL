{
 "cells": [
  {
   "cell_type": "markdown",
   "id": "e29ba831",
   "metadata": {},
   "source": [
    "### 전이학습(Transfer learning)\n",
    "- 어떤 목적을 이루기 위해 학습된 모델을 다른 작업에 이용하는 것\n",
    "- 즉, A문제를 해결하기 위한 모델의 구성을 다른 문제인 B에 이용하는 것으로 볼 수 있음\n",
    "- 예)\n",
    "    1. 이미지를 학습시켜 분류하는 모델의 구성이 훌륭하다면\n",
    "    2. 해당 모델을 이용하여 다른 이미지를 학습시켜 분류를 한다거나(dog, cat)\n",
    "    3. 해당 모델을 발전시켜 이미지내에서 객체를 찾아내는 작업을 할 수 있음"
   ]
  }
 ],
 "metadata": {
  "kernelspec": {
   "display_name": "Python 3 (ipykernel)",
   "language": "python",
   "name": "python3"
  },
  "language_info": {
   "codemirror_mode": {
    "name": "ipython",
    "version": 3
   },
   "file_extension": ".py",
   "mimetype": "text/x-python",
   "name": "python",
   "nbconvert_exporter": "python",
   "pygments_lexer": "ipython3",
   "version": "3.11.5"
  }
 },
 "nbformat": 4,
 "nbformat_minor": 5
}
