{
 "cells": [
  {
   "cell_type": "code",
   "execution_count": null,
   "id": "81fc2f8b",
   "metadata": {},
   "outputs": [],
   "source": [
    "# 함수와 매서드 차이\n",
    "\n",
    "sorted()와 .sort()는 두 가지 다른 방식으로 배열 또는 리스트를 정렬하는 Python 메서드 및 함수입니다.\n",
    "이들의 주요 차이점은 다음과 같습니다:\n",
    "\n",
    "sorted() 함수:\n",
    "sorted() 함수는 주어진 배열 또는 iterable의 정렬된 복사본을 반환합니다.\n",
    "즉, '원본 배열을 변경하지 않고' 정렬된 새로운 배열을 생성합니다.\n",
    "반환된 결과를 새로운 변수에 할당하여 사용해야 합니다.\n",
    "사용 예시: sorted_array = sorted(array)\n",
    "    \n",
    ".sort() 메서드:\n",
    ".sort() 메서드는 배열 또는 리스트를 정렬하여 원본 배열을 변경합니다.\n",
    "원본 배열의 순서가 변경됩니다.\n",
    "반환 값이 없으므로 원본 배열을 직접 정렬합니다.\n",
    "사용 예시: array.sort()\n",
    "    \n",
    ".append(): 리스트에 요소를 추가합니다. (원본 리스트 변경)\n",
    "list() 생성자: 다른 iterable(예: 튜플)을 리스트로 변환합니다. (새로운 리스트 생성)\n",
    ".copy(): 리스트나 딕셔너리의 복사본을 생성합니다. (새로운 리스트 또는 딕셔너리 생성)\n",
    "sorted(): iterable을 정렬한 복사본을 생성합니다. (새로운 리스트 생성)\n",
    ".reverse(): 리스트의 순서를 뒤집습니다. (원본 리스트 변경)\n",
    "    \n",
    "변경된 데이터가 필요하면 메서드를 사용하고, 원본 데이터를 보존하면 함수를 사용하면 됩니다."
   ]
  }
 ],
 "metadata": {
  "kernelspec": {
   "display_name": "Python 3 (ipykernel)",
   "language": "python",
   "name": "python3"
  },
  "language_info": {
   "codemirror_mode": {
    "name": "ipython",
    "version": 3
   },
   "file_extension": ".py",
   "mimetype": "text/x-python",
   "name": "python",
   "nbconvert_exporter": "python",
   "pygments_lexer": "ipython3",
   "version": "3.11.5"
  }
 },
 "nbformat": 4,
 "nbformat_minor": 5
}
