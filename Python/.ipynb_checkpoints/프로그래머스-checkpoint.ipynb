{
 "cells": [
  {
   "cell_type": "code",
   "execution_count": 10,
   "id": "37d82eda",
   "metadata": {},
   "outputs": [
    {
     "data": {
      "text/plain": [
       "[1, 3, 5, 7, 9]"
      ]
     },
     "execution_count": 10,
     "metadata": {},
     "output_type": "execute_result"
    }
   ],
   "source": [
    "#짝수는 싫어요\n",
    "def solution(n):\n",
    "    answer = []\n",
    "    for i in range(1,n+1,2):\n",
    "        answer.append(i)\n",
    "    return answer\n",
    "\n",
    "solution(10)"
   ]
  },
  {
   "cell_type": "code",
   "execution_count": null,
   "id": "6668a781",
   "metadata": {},
   "outputs": [],
   "source": [
    "def solution(array):\n",
    "    # 요소의 빈도수를 저장할 딕셔너리\n",
    "    frequency_dict = {}\n",
    "    \n",
    "    # 최빈값의 빈도수\n",
    "    max_frequency = 0\n",
    "    \n",
    "    # 배열을 순회하면서 빈도수를 계산\n",
    "    for num in array:\n",
    "        if num in frequency_dict:\n",
    "            frequency_dict[num] += 1\n",
    "        else:\n",
    "            frequency_dict[num] = 1\n",
    "        \n",
    "        # 현재 최빈값과 비교\n",
    "        if frequency_dict[num] > max_frequency:\n",
    "            max_frequency = frequency_dict[num]\n",
    "    \n",
    "    # 최빈값들을 찾아 리스트에 저장\n",
    "    modes = [num for num, freq in frequency_dict.items() if freq == max_frequency]\n",
    "    \n",
    "    # 최빈값이 여러 개인 경우\n",
    "    if len(modes) > 1:\n",
    "        return -1\n",
    "    \n",
    "    # 최빈값이 하나인 경우\n",
    "    return modes[0]"
   ]
  },
  {
   "cell_type": "code",
   "execution_count": 2,
   "id": "ff0655f0",
   "metadata": {},
   "outputs": [
    {
     "ename": "SyntaxError",
     "evalue": "invalid decimal literal (2939747459.py, line 7)",
     "output_type": "error",
     "traceback": [
      "\u001b[1;36m  Cell \u001b[1;32mIn[2], line 7\u001b[1;36m\u001b[0m\n\u001b[1;33m    위 코드에서  answer에 array의 len / 2의 반올림한 int의 인덱스를 출력하고 싶은데\u001b[0m\n\u001b[1;37m                                 ^\u001b[0m\n\u001b[1;31mSyntaxError\u001b[0m\u001b[1;31m:\u001b[0m invalid decimal literal\n"
     ]
    }
   ],
   "source": [
    "#중앙값 구하기\n",
    "def solution(array):\n",
    "    array.sort()\n",
    "    answer = array[len(array) // 2]\n",
    "    return answer"
   ]
  },
  {
   "cell_type": "code",
   "execution_count": null,
   "id": "632b6a13",
   "metadata": {},
   "outputs": [],
   "source": [
    "# 나머지 구하기\n",
    "def solution(num1, num2):\n",
    "        return num1 % num2"
   ]
  },
  {
   "cell_type": "code",
   "execution_count": 3,
   "id": "ddcdf385",
   "metadata": {},
   "outputs": [],
   "source": [
    "#배열 두배 만들기\n",
    "def solution(numbers):\n",
    "    answer = []\n",
    "    for i in numbers:\n",
    "        answer += i*2\n",
    "    return answer"
   ]
  },
  {
   "cell_type": "code",
   "execution_count": null,
   "id": "7f68a985",
   "metadata": {},
   "outputs": [],
   "source": [
    "#분수의 덧셈\n",
    "def solution(numer1, denom1, numer2, denom2):\n",
    "    answer = []\n",
    "    answer = (numer1/denom1) + (numer2/denom2) \n",
    "    return answer"
   ]
  },
  {
   "cell_type": "code",
   "execution_count": 1,
   "id": "17c37560",
   "metadata": {},
   "outputs": [
    {
     "ename": "SyntaxError",
     "evalue": "expected ':' (35465070.py, line 5)",
     "output_type": "error",
     "traceback": [
      "\u001b[1;36m  Cell \u001b[1;32mIn[1], line 5\u001b[1;36m\u001b[0m\n\u001b[1;33m    else\u001b[0m\n\u001b[1;37m        ^\u001b[0m\n\u001b[1;31mSyntaxError\u001b[0m\u001b[1;31m:\u001b[0m expected ':'\n"
     ]
    }
   ],
   "source": [
    "#숫자 비교하기\n",
    "def solution(num1, num2):\n",
    "    if num1 == num2:\n",
    "        print(1)\n",
    "    else:\n",
    "        print(-1)"
   ]
  },
  {
   "cell_type": "code",
   "execution_count": null,
   "id": "175582f2",
   "metadata": {},
   "outputs": [],
   "source": [
    "#두 수의 나눗셈\n",
    "def solution(num1, num2):\n",
    "    answer = 0\n",
    "    answer = num1 / num2 * 1000\n",
    "    return int(answer)"
   ]
  },
  {
   "cell_type": "code",
   "execution_count": null,
   "id": "8612013c",
   "metadata": {},
   "outputs": [],
   "source": [
    "# 몫 구하기\n",
    "def solution(num1, num2):\n",
    "    result = 0\n",
    "    result = num1 % num2\n",
    "    return result\n",
    "\n",
    "print(solution(,))"
   ]
  },
  {
   "cell_type": "code",
   "execution_count": 11,
   "id": "e6a4e0cd",
   "metadata": {},
   "outputs": [
    {
     "ename": "SyntaxError",
     "evalue": "invalid syntax (2369525350.py, line 4)",
     "output_type": "error",
     "traceback": [
      "\u001b[1;36m  Cell \u001b[1;32mIn[11], line 4\u001b[1;36m\u001b[0m\n\u001b[1;33m    reture cha\u001b[0m\n\u001b[1;37m           ^\u001b[0m\n\u001b[1;31mSyntaxError\u001b[0m\u001b[1;31m:\u001b[0m invalid syntax\n"
     ]
    }
   ],
   "source": [
    "#두 수의 차\n",
    "def solution(num1, num2):\n",
    "    cha = num1 - num2\n",
    "    return cha"
   ]
  },
  {
   "cell_type": "code",
   "execution_count": null,
   "id": "566f9064",
   "metadata": {},
   "outputs": [],
   "source": [
    "#flag에 따라 다른 값 반환하기\n",
    "\n",
    "def solution(a, b, flag):\n",
    "    answer = a+b if flag == True else a-b\n",
    "\n",
    "    return answer"
   ]
  },
  {
   "cell_type": "code",
   "execution_count": null,
   "id": "bfd10703",
   "metadata": {},
   "outputs": [],
   "source": [
    "#조건 문자열\n",
    "def solution(ineq, eq, n, m):\n",
    "    if ineq == '<'\n",
    "    answer = 0\n",
    "    return answer"
   ]
  },
  {
   "cell_type": "code",
   "execution_count": 10,
   "id": "0e44f89f",
   "metadata": {},
   "outputs": [],
   "source": [
    "#홀짝에 따라 다른 값 반환하기\n",
    "def solution(n):\n",
    "    sum = 0\n",
    "    if n % 2 == 1:\n",
    "        for i in range(1, n+1, 2):\n",
    "            sum += i\n",
    "    else:\n",
    "        for i in range(2, n+1, 2):\n",
    "            sum += i**2\n",
    "    return sum"
   ]
  },
  {
   "cell_type": "code",
   "execution_count": 4,
   "id": "2f7618ac",
   "metadata": {},
   "outputs": [],
   "source": [
    "#공배수\n",
    "def solution(number, n, m):\n",
    "    answer = 0\n",
    "    if number % n == 0 and number % m == 0:\n",
    "        answer = 1\n",
    "    return answer"
   ]
  },
  {
   "cell_type": "code",
   "execution_count": 2,
   "id": "539d92c2",
   "metadata": {},
   "outputs": [],
   "source": [
    "#n의 배수\n",
    "def solution(num, n):\n",
    "    answer = 0\n",
    "    if num % n == 0:\n",
    "        answer = 1\n",
    "    return answer"
   ]
  }
 ],
 "metadata": {
  "kernelspec": {
   "display_name": "Python 3 (ipykernel)",
   "language": "python",
   "name": "python3"
  },
  "language_info": {
   "codemirror_mode": {
    "name": "ipython",
    "version": 3
   },
   "file_extension": ".py",
   "mimetype": "text/x-python",
   "name": "python",
   "nbconvert_exporter": "python",
   "pygments_lexer": "ipython3",
   "version": "3.11.5"
  }
 },
 "nbformat": 4,
 "nbformat_minor": 5
}
