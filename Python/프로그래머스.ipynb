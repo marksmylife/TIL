{
 "cells": [
  {
   "cell_type": "code",
   "execution_count": 3,
   "id": "ddcdf385",
   "metadata": {},
   "outputs": [],
   "source": [
    "#배열 두배 만들기\n",
    "def solution(numbers):\n",
    "    answer = []\n",
    "    for i in numbers:\n",
    "        answer += i*2\n",
    "    return answer"
   ]
  },
  {
   "cell_type": "code",
   "execution_count": null,
   "id": "7f68a985",
   "metadata": {},
   "outputs": [],
   "source": [
    "#분수의 덧셈\n",
    "def solution(numer1, denom1, numer2, denom2):\n",
    "    answer = []\n",
    "    answer = (numer1/denom1) + (numer2/denom2) \n",
    "    return answer"
   ]
  },
  {
   "cell_type": "code",
   "execution_count": 1,
   "id": "17c37560",
   "metadata": {},
   "outputs": [
    {
     "ename": "SyntaxError",
     "evalue": "expected ':' (35465070.py, line 5)",
     "output_type": "error",
     "traceback": [
      "\u001b[1;36m  Cell \u001b[1;32mIn[1], line 5\u001b[1;36m\u001b[0m\n\u001b[1;33m    else\u001b[0m\n\u001b[1;37m        ^\u001b[0m\n\u001b[1;31mSyntaxError\u001b[0m\u001b[1;31m:\u001b[0m expected ':'\n"
     ]
    }
   ],
   "source": [
    "#숫자 비교하기\n",
    "def solution(num1, num2):\n",
    "    if num1 == num2:\n",
    "        print(1)\n",
    "    else:\n",
    "        print(-1)"
   ]
  },
  {
   "cell_type": "code",
   "execution_count": null,
   "id": "175582f2",
   "metadata": {},
   "outputs": [],
   "source": [
    "#두 수의 나눗셈\n",
    "def solution(num1, num2):\n",
    "    answer = 0\n",
    "    answer = num1 / num2 * 1000\n",
    "    return int(answer)"
   ]
  },
  {
   "cell_type": "code",
   "execution_count": null,
   "id": "8612013c",
   "metadata": {},
   "outputs": [],
   "source": [
    "# 몫 구하기\n",
    "def solution(num1, num2):\n",
    "    result = 0\n",
    "    result = num1 % num2\n",
    "    return result\n",
    "\n",
    "print(solution(,))"
   ]
  },
  {
   "cell_type": "code",
   "execution_count": 11,
   "id": "e6a4e0cd",
   "metadata": {},
   "outputs": [
    {
     "ename": "SyntaxError",
     "evalue": "invalid syntax (2369525350.py, line 4)",
     "output_type": "error",
     "traceback": [
      "\u001b[1;36m  Cell \u001b[1;32mIn[11], line 4\u001b[1;36m\u001b[0m\n\u001b[1;33m    reture cha\u001b[0m\n\u001b[1;37m           ^\u001b[0m\n\u001b[1;31mSyntaxError\u001b[0m\u001b[1;31m:\u001b[0m invalid syntax\n"
     ]
    }
   ],
   "source": [
    "#두 수의 차\n",
    "def solution(num1, num2):\n",
    "    cha = num1 - num2\n",
    "    return cha"
   ]
  },
  {
   "cell_type": "code",
   "execution_count": null,
   "id": "566f9064",
   "metadata": {},
   "outputs": [],
   "source": [
    "#flag에 따라 다른 값 반환하기\n",
    "\n",
    "def solution(a, b, flag):\n",
    "    answer = a+b if flag == True else a-b\n",
    "\n",
    "    return answer"
   ]
  },
  {
   "cell_type": "code",
   "execution_count": null,
   "id": "bfd10703",
   "metadata": {},
   "outputs": [],
   "source": [
    "#조건 문자열\n",
    "def solution(ineq, eq, n, m):\n",
    "    if ineq == '<'\n",
    "    answer = 0\n",
    "    return answer"
   ]
  },
  {
   "cell_type": "code",
   "execution_count": 10,
   "id": "0e44f89f",
   "metadata": {},
   "outputs": [],
   "source": [
    "#홀짝에 따라 다른 값 반환하기\n",
    "def solution(n):\n",
    "    sum = 0\n",
    "    if n % 2 == 1:\n",
    "        for i in range(1, n+1, 2):\n",
    "            sum += i\n",
    "    else:\n",
    "        for i in range(2, n+1, 2):\n",
    "            sum += i**2\n",
    "    return sum"
   ]
  },
  {
   "cell_type": "code",
   "execution_count": 4,
   "id": "2f7618ac",
   "metadata": {},
   "outputs": [],
   "source": [
    "#공배수\n",
    "def solution(number, n, m):\n",
    "    answer = 0\n",
    "    if number % n == 0 and number % m == 0:\n",
    "        answer = 1\n",
    "    return answer"
   ]
  },
  {
   "cell_type": "code",
   "execution_count": 2,
   "id": "539d92c2",
   "metadata": {},
   "outputs": [],
   "source": [
    "#n의 배수\n",
    "def solution(num, n):\n",
    "    answer = 0\n",
    "    if num % n == 0:\n",
    "        answer = 1\n",
    "    return answer"
   ]
  }
 ],
 "metadata": {
  "kernelspec": {
   "display_name": "Python 3 (ipykernel)",
   "language": "python",
   "name": "python3"
  },
  "language_info": {
   "codemirror_mode": {
    "name": "ipython",
    "version": 3
   },
   "file_extension": ".py",
   "mimetype": "text/x-python",
   "name": "python",
   "nbconvert_exporter": "python",
   "pygments_lexer": "ipython3",
   "version": "3.11.5"
  }
 },
 "nbformat": 4,
 "nbformat_minor": 5
}
