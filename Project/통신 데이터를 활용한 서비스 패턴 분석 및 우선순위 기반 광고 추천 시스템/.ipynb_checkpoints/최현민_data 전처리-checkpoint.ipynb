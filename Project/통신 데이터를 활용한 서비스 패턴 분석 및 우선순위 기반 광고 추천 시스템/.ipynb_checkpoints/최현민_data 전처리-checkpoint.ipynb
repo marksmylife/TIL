{
 "cells": [
  {
   "cell_type": "code",
   "execution_count": 13,
   "id": "161f5a87",
   "metadata": {},
   "outputs": [],
   "source": [
    "import pandas as pd\n",
    "import numpy as np\n",
    "\n",
    "# 파일 경로\n",
    "file_path = \"./dataset/2023.{}월_29개 통신정보.xlsx\"\n",
    "\n",
    "# 1월부터 9월까지의 데이터를 읽어오는 리스트 생성\n",
    "dataframes = [pd.read_excel(file_path.format(month)) for month in range(1, 10)]\n",
    "\n",
    "# 각 데이터프레임을 하나로 합치기\n",
    "combined_df = pd.concat(dataframes)\n",
    "\n",
    "# 숫자 데이터만 포함하는 열 선택\n",
    "numeric_df = combined_df.select_dtypes(include=[np.number])\n",
    "\n",
    "# 동일한 위치의 셀들을 묶어 평균을 계산\n",
    "# average_df = numeric_df.groupby(level=0).mean()\n",
    "average_df = numeric_df.mean()\n",
    "\n",
    "# 결과를 새로운 엑셀 파일로 저장\n",
    "\n",
    "average_df.to_excel('./average_전체.xlsx')"
   ]
  },
  {
   "cell_type": "code",
   "execution_count": 4,
   "id": "86189793",
   "metadata": {},
   "outputs": [],
   "source": [
    "import pandas as pd\n",
    "import numpy as np\n",
    "\n",
    "file_paths = [f\"./dataset/2023.{month}월_29개 통신정보.xlsx\" for month in range(1, 10)]\n",
    "\n",
    "# 모든 파일을 읽어 하나의 DataFrame으로 병합\n",
    "df_list = [pd.read_excel(path) for path in file_paths]\n",
    "combined_df = pd.concat(df_list, ignore_index=True)\n",
    "\n",
    "# 수치형 열에 대해서만 평균을 계산\n",
    "numeric_cols = combined_df.select_dtypes(include=[np.number]).columns\n",
    "average_df = combined_df[numeric_cols].mean()\n",
    "\n",
    "average_df.to_excel('./combined_average.xlsx', index=False)"
   ]
  },
  {
   "cell_type": "code",
   "execution_count": 8,
   "id": "df422d95",
   "metadata": {},
   "outputs": [
    {
     "ename": "ValueError",
     "evalue": "Boolean array expected for the condition, not int64",
     "output_type": "error",
     "traceback": [
      "\u001b[1;31m---------------------------------------------------------------------------\u001b[0m",
      "\u001b[1;31mValueError\u001b[0m                                Traceback (most recent call last)",
      "Cell \u001b[1;32mIn[8], line 18\u001b[0m\n\u001b[0;32m     14\u001b[0m combined_df \u001b[38;5;241m=\u001b[39m pd\u001b[38;5;241m.\u001b[39mconcat(df_list)\n\u001b[0;32m     16\u001b[0m numeric_cols \u001b[38;5;241m=\u001b[39m combined_df\u001b[38;5;241m.\u001b[39mselect_dtypes(include\u001b[38;5;241m=\u001b[39m[np\u001b[38;5;241m.\u001b[39mnumber])\n\u001b[1;32m---> 18\u001b[0m average_df \u001b[38;5;241m=\u001b[39m combined_df[numeric_cols]\u001b[38;5;241m.\u001b[39mmean()\n\u001b[0;32m     20\u001b[0m average_df\u001b[38;5;241m.\u001b[39mto_excel(\u001b[38;5;124m'\u001b[39m\u001b[38;5;124m./combined_average.xlsx\u001b[39m\u001b[38;5;124m'\u001b[39m, index\u001b[38;5;241m=\u001b[39m\u001b[38;5;28;01mFalse\u001b[39;00m)\n",
      "File \u001b[1;32m~\\anaconda3\\Lib\\site-packages\\pandas\\core\\frame.py:3883\u001b[0m, in \u001b[0;36mDataFrame.__getitem__\u001b[1;34m(self, key)\u001b[0m\n\u001b[0;32m   3881\u001b[0m \u001b[38;5;66;03m# Do we have a (boolean) DataFrame?\u001b[39;00m\n\u001b[0;32m   3882\u001b[0m \u001b[38;5;28;01mif\u001b[39;00m \u001b[38;5;28misinstance\u001b[39m(key, DataFrame):\n\u001b[1;32m-> 3883\u001b[0m     \u001b[38;5;28;01mreturn\u001b[39;00m \u001b[38;5;28mself\u001b[39m\u001b[38;5;241m.\u001b[39mwhere(key)\n\u001b[0;32m   3885\u001b[0m \u001b[38;5;66;03m# Do we have a (boolean) 1d indexer?\u001b[39;00m\n\u001b[0;32m   3886\u001b[0m \u001b[38;5;28;01mif\u001b[39;00m com\u001b[38;5;241m.\u001b[39mis_bool_indexer(key):\n",
      "File \u001b[1;32m~\\anaconda3\\Lib\\site-packages\\pandas\\core\\generic.py:10603\u001b[0m, in \u001b[0;36mNDFrame.where\u001b[1;34m(self, cond, other, inplace, axis, level)\u001b[0m\n\u001b[0;32m  10597\u001b[0m             warnings\u001b[38;5;241m.\u001b[39mwarn(\n\u001b[0;32m  10598\u001b[0m                 _chained_assignment_method_msg,\n\u001b[0;32m  10599\u001b[0m                 ChainedAssignmentError,\n\u001b[0;32m  10600\u001b[0m                 stacklevel\u001b[38;5;241m=\u001b[39m\u001b[38;5;241m2\u001b[39m,\n\u001b[0;32m  10601\u001b[0m             )\n\u001b[0;32m  10602\u001b[0m other \u001b[38;5;241m=\u001b[39m common\u001b[38;5;241m.\u001b[39mapply_if_callable(other, \u001b[38;5;28mself\u001b[39m)\n\u001b[1;32m> 10603\u001b[0m \u001b[38;5;28;01mreturn\u001b[39;00m \u001b[38;5;28mself\u001b[39m\u001b[38;5;241m.\u001b[39m_where(cond, other, inplace, axis, level)\n",
      "File \u001b[1;32m~\\anaconda3\\Lib\\site-packages\\pandas\\core\\generic.py:10309\u001b[0m, in \u001b[0;36mNDFrame._where\u001b[1;34m(self, cond, other, inplace, axis, level)\u001b[0m\n\u001b[0;32m  10307\u001b[0m \u001b[38;5;28;01mfor\u001b[39;00m _dt \u001b[38;5;129;01min\u001b[39;00m cond\u001b[38;5;241m.\u001b[39mdtypes:\n\u001b[0;32m  10308\u001b[0m     \u001b[38;5;28;01mif\u001b[39;00m \u001b[38;5;129;01mnot\u001b[39;00m is_bool_dtype(_dt):\n\u001b[1;32m> 10309\u001b[0m         \u001b[38;5;28;01mraise\u001b[39;00m \u001b[38;5;167;01mValueError\u001b[39;00m(msg\u001b[38;5;241m.\u001b[39mformat(dtype\u001b[38;5;241m=\u001b[39m_dt))\n\u001b[0;32m  10310\u001b[0m \u001b[38;5;28;01mif\u001b[39;00m cond\u001b[38;5;241m.\u001b[39m_mgr\u001b[38;5;241m.\u001b[39many_extension_types:\n\u001b[0;32m  10311\u001b[0m     \u001b[38;5;66;03m# GH51574: avoid object ndarray conversion later on\u001b[39;00m\n\u001b[0;32m  10312\u001b[0m     cond \u001b[38;5;241m=\u001b[39m cond\u001b[38;5;241m.\u001b[39m_constructor(\n\u001b[0;32m  10313\u001b[0m         cond\u001b[38;5;241m.\u001b[39mto_numpy(dtype\u001b[38;5;241m=\u001b[39m\u001b[38;5;28mbool\u001b[39m, na_value\u001b[38;5;241m=\u001b[39mfill_value),\n\u001b[0;32m  10314\u001b[0m         \u001b[38;5;241m*\u001b[39m\u001b[38;5;241m*\u001b[39mcond\u001b[38;5;241m.\u001b[39m_construct_axes_dict(),\n\u001b[0;32m  10315\u001b[0m     )\n",
      "\u001b[1;31mValueError\u001b[0m: Boolean array expected for the condition, not int64"
     ]
    }
   ],
   "source": [
    "import pandas as pd\n",
    "import numpy as np\n",
    "\n",
    "file_paths = [f\"./dataset/2023.{month}월_29개 통신정보.xlsx\" for month in range(1, 10)]\n",
    "\n",
    "# 수치형 열만 선택하기 위한 빈 리스트 초기화\n",
    "df_list = []\n",
    "for path in file_paths:\n",
    "    # 각 파일을 읽어옵니다.\n",
    "    df = pd.read_excel(path)\n",
    "    # 리스트에 추가합니다.\n",
    "    df_list.append(df)\n",
    "\n",
    "combined_df = pd.concat(df_list)\n",
    "\n",
    "numeric_cols = combined_df.select_dtypes(include=[np.number])\n",
    "\n",
    "average_df = combined_df[numeric_cols].mean()\n",
    "\n",
    "average_df.to_excel('./combined_average.xlsx', index=False)"
   ]
  },
  {
   "cell_type": "code",
   "execution_count": 11,
   "id": "826a9e29",
   "metadata": {},
   "outputs": [
    {
     "ename": "InvalidIndexError",
     "evalue": "Reindexing only valid with uniquely valued Index objects",
     "output_type": "error",
     "traceback": [
      "\u001b[1;31m---------------------------------------------------------------------------\u001b[0m",
      "\u001b[1;31mInvalidIndexError\u001b[0m                         Traceback (most recent call last)",
      "Cell \u001b[1;32mIn[11], line 23\u001b[0m\n\u001b[0;32m     20\u001b[0m average_df \u001b[38;5;241m=\u001b[39m numeric_df\u001b[38;5;241m.\u001b[39mmean()\n\u001b[0;32m     22\u001b[0m \u001b[38;5;66;03m# 평균 계산된 데이터와 비수치형 데이터를 합침\u001b[39;00m\n\u001b[1;32m---> 23\u001b[0m result_df \u001b[38;5;241m=\u001b[39m pd\u001b[38;5;241m.\u001b[39mconcat([non_numeric_df, average_df], axis\u001b[38;5;241m=\u001b[39m\u001b[38;5;241m1\u001b[39m)\n\u001b[0;32m     25\u001b[0m \u001b[38;5;66;03m# 결과를 새로운 엑셀 파일로 저장\u001b[39;00m\n\u001b[0;32m     26\u001b[0m result_df\u001b[38;5;241m.\u001b[39mto_excel(\u001b[38;5;124m'\u001b[39m\u001b[38;5;124m./average_행정동 살리기.xlsx\u001b[39m\u001b[38;5;124m'\u001b[39m, index\u001b[38;5;241m=\u001b[39m\u001b[38;5;28;01mFalse\u001b[39;00m)\n",
      "File \u001b[1;32m~\\anaconda3\\Lib\\site-packages\\pandas\\core\\reshape\\concat.py:393\u001b[0m, in \u001b[0;36mconcat\u001b[1;34m(objs, axis, join, ignore_index, keys, levels, names, verify_integrity, sort, copy)\u001b[0m\n\u001b[0;32m    378\u001b[0m     copy \u001b[38;5;241m=\u001b[39m \u001b[38;5;28;01mFalse\u001b[39;00m\n\u001b[0;32m    380\u001b[0m op \u001b[38;5;241m=\u001b[39m _Concatenator(\n\u001b[0;32m    381\u001b[0m     objs,\n\u001b[0;32m    382\u001b[0m     axis\u001b[38;5;241m=\u001b[39maxis,\n\u001b[1;32m   (...)\u001b[0m\n\u001b[0;32m    390\u001b[0m     sort\u001b[38;5;241m=\u001b[39msort,\n\u001b[0;32m    391\u001b[0m )\n\u001b[1;32m--> 393\u001b[0m \u001b[38;5;28;01mreturn\u001b[39;00m op\u001b[38;5;241m.\u001b[39mget_result()\n",
      "File \u001b[1;32m~\\anaconda3\\Lib\\site-packages\\pandas\\core\\reshape\\concat.py:676\u001b[0m, in \u001b[0;36m_Concatenator.get_result\u001b[1;34m(self)\u001b[0m\n\u001b[0;32m    674\u001b[0m         obj_labels \u001b[38;5;241m=\u001b[39m obj\u001b[38;5;241m.\u001b[39maxes[\u001b[38;5;241m1\u001b[39m \u001b[38;5;241m-\u001b[39m ax]\n\u001b[0;32m    675\u001b[0m         \u001b[38;5;28;01mif\u001b[39;00m \u001b[38;5;129;01mnot\u001b[39;00m new_labels\u001b[38;5;241m.\u001b[39mequals(obj_labels):\n\u001b[1;32m--> 676\u001b[0m             indexers[ax] \u001b[38;5;241m=\u001b[39m obj_labels\u001b[38;5;241m.\u001b[39mget_indexer(new_labels)\n\u001b[0;32m    678\u001b[0m     mgrs_indexers\u001b[38;5;241m.\u001b[39mappend((obj\u001b[38;5;241m.\u001b[39m_mgr, indexers))\n\u001b[0;32m    680\u001b[0m new_data \u001b[38;5;241m=\u001b[39m concatenate_managers(\n\u001b[0;32m    681\u001b[0m     mgrs_indexers, \u001b[38;5;28mself\u001b[39m\u001b[38;5;241m.\u001b[39mnew_axes, concat_axis\u001b[38;5;241m=\u001b[39m\u001b[38;5;28mself\u001b[39m\u001b[38;5;241m.\u001b[39mbm_axis, copy\u001b[38;5;241m=\u001b[39m\u001b[38;5;28mself\u001b[39m\u001b[38;5;241m.\u001b[39mcopy\n\u001b[0;32m    682\u001b[0m )\n",
      "File \u001b[1;32m~\\anaconda3\\Lib\\site-packages\\pandas\\core\\indexes\\base.py:3874\u001b[0m, in \u001b[0;36mIndex.get_indexer\u001b[1;34m(self, target, method, limit, tolerance)\u001b[0m\n\u001b[0;32m   3871\u001b[0m \u001b[38;5;28mself\u001b[39m\u001b[38;5;241m.\u001b[39m_check_indexing_method(method, limit, tolerance)\n\u001b[0;32m   3873\u001b[0m \u001b[38;5;28;01mif\u001b[39;00m \u001b[38;5;129;01mnot\u001b[39;00m \u001b[38;5;28mself\u001b[39m\u001b[38;5;241m.\u001b[39m_index_as_unique:\n\u001b[1;32m-> 3874\u001b[0m     \u001b[38;5;28;01mraise\u001b[39;00m InvalidIndexError(\u001b[38;5;28mself\u001b[39m\u001b[38;5;241m.\u001b[39m_requires_unique_msg)\n\u001b[0;32m   3876\u001b[0m \u001b[38;5;28;01mif\u001b[39;00m \u001b[38;5;28mlen\u001b[39m(target) \u001b[38;5;241m==\u001b[39m \u001b[38;5;241m0\u001b[39m:\n\u001b[0;32m   3877\u001b[0m     \u001b[38;5;28;01mreturn\u001b[39;00m np\u001b[38;5;241m.\u001b[39marray([], dtype\u001b[38;5;241m=\u001b[39mnp\u001b[38;5;241m.\u001b[39mintp)\n",
      "\u001b[1;31mInvalidIndexError\u001b[0m: Reindexing only valid with uniquely valued Index objects"
     ]
    }
   ],
   "source": [
    "import pandas as pd\n",
    "import numpy as np\n",
    "\n",
    "# 파일 경로\n",
    "file_path = \"./dataset/2023.{}월_29개 통신정보.xlsx\"\n",
    "\n",
    "# 1월부터 9월까지의 데이터를 읽어오는 리스트 생성\n",
    "dataframes = [pd.read_excel(file_path.format(month)) for month in range(1, 10)]\n",
    "\n",
    "# 각 데이터프레임을 하나로 합치기\n",
    "combined_df = pd.concat(dataframes)\n",
    "\n",
    "# '자치구'와 '행정동' 열을 별도로 저장\n",
    "non_numeric_df = combined_df[['자치구', '행정동']].copy()\n",
    "\n",
    "# 숫자 데이터만 포함하는 열 선택\n",
    "numeric_df = combined_df.select_dtypes(include=[np.number])\n",
    "\n",
    "# 동일한 위치의 셀들을 묶어 평균을 계산\n",
    "average_df = numeric_df.mean()\n",
    "\n",
    "# 평균 계산된 데이터와 비수치형 데이터를 합침\n",
    "result_df = pd.concat([non_numeric_df, average_df], axis=1)\n",
    "\n",
    "# 결과를 새로운 엑셀 파일로 저장\n",
    "result_df.to_excel('./average_행정동 살리기.xlsx', index=False)"
   ]
  },
  {
   "cell_type": "code",
   "execution_count": 26,
   "id": "d45814bd",
   "metadata": {},
   "outputs": [],
   "source": [
    "import pandas as pd\n",
    "\n",
    "# 파일 경로\n",
    "file_path = './average.xlsx'\n",
    "\n",
    "# 파일 로드\n",
    "average_df = pd.read_excel(file_path)\n",
    "\n",
    "#성별 변경\n",
    "average_df['성별'] = average_df['성별'].replace({1: 'M', 2: 'F'})\n",
    "\n",
    "# 연령대별 총인구수를 자치구 별로 그룹화하여 계산\n",
    "age_group_population = average_df.groupby(['자치구', '성별', '연령대'])['총인구수'].sum().reset_index()\n",
    "\n",
    "# 인구수 정수로 올림\n",
    "age_group_population['총인구수'] = np.ceil(age_group_population['총인구수'])\n",
    "    \n",
    "# 결과 확인\n",
    "# age_group_population.head(30) \n",
    "\n",
    "# 출력\n",
    "age_group_population.to_excel('./age_group_population.xlsx')\n"
   ]
  },
  {
   "cell_type": "code",
   "execution_count": 36,
   "id": "ff9db1a1",
   "metadata": {},
   "outputs": [],
   "source": [
    "#성별, 구별 평균나이 계산\n",
    "\n",
    "# 파일 로드\n",
    "file_path = './age_group_population.xlsx'\n",
    "age_group_population_df = pd.read_excel(file_path)\n",
    "\n",
    "# '연령대' 열을 수치형으로 변환 (예: '20대' -> 20)\n",
    "# age_group_population_df['연령대'] = age_group_population_df['연령대'].str.extract('(\\d+)').astype(int)\n",
    "\n",
    "# 자치구별 전체 평균 연령 계산\n",
    "district_avg_age = age_group_population_df.groupby('자치구').apply(\n",
    "    lambda x: np.average(x['연령대'], weights=x['총인구수'])\n",
    ").reset_index(name='총평균연령')\n",
    "\n",
    "# 성별에 따른 자치구별 평균 연령 계산\n",
    "gender_avg_age = age_group_population_df.groupby(['자치구', '성별']).apply(\n",
    "    lambda x: np.average(x['연령대'], weights=x['총인구수'])\n",
    ").reset_index(name='평균연령')\n",
    "\n",
    "# 결과 확인\n",
    "district_avg_age.head(), gender_avg_age.head()\n",
    "\n",
    "#출력\n",
    "district_avg_age.to_excel('./district_avg_age.xlsx')\n",
    "gender_avg_age.to_excel('./gender_avg_age.xlsx')"
   ]
  }
 ],
 "metadata": {
  "kernelspec": {
   "display_name": "Python 3 (ipykernel)",
   "language": "python",
   "name": "python3"
  },
  "language_info": {
   "codemirror_mode": {
    "name": "ipython",
    "version": 3
   },
   "file_extension": ".py",
   "mimetype": "text/x-python",
   "name": "python",
   "nbconvert_exporter": "python",
   "pygments_lexer": "ipython3",
   "version": "3.11.5"
  }
 },
 "nbformat": 4,
 "nbformat_minor": 5
}
