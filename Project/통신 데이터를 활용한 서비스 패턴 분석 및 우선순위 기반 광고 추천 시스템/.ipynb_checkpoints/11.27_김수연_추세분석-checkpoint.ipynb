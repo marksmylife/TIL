{
 "cells": [
  {
   "cell_type": "code",
   "execution_count": 1,
   "id": "28dcdc5e",
   "metadata": {},
   "outputs": [],
   "source": [
    "import pandas as pd\n",
    "import numpy as np\n",
    "import matplotlib.pyplot as plt\n",
    "import seaborn as sns"
   ]
  },
  {
   "cell_type": "code",
   "execution_count": 2,
   "id": "c2506d72",
   "metadata": {},
   "outputs": [],
   "source": [
    "# 한글 문제\n",
    "# matplotlit의 기본 폰트에서 한글 지원되지 않기 때문에\n",
    "# matplotlib의 폰트 변경 필요\n",
    "import platform\n",
    "\n",
    "from matplotlib import font_manager, rc\n",
    "plt.rcParams['axes.unicode_minus'] = False\n",
    "path = \"c:/Windows/Fonts/malgun.ttf\"\n",
    "font_name = font_manager.FontProperties(fname=path).get_name()\n",
    "rc('font', family=font_name)"
   ]
  },
  {
   "cell_type": "code",
   "execution_count": 3,
   "id": "c157274e",
   "metadata": {},
   "outputs": [
    {
     "data": {
      "application/javascript": [
       "\n",
       "IPython.OutputArea.prototype._should_scroll = function(lines) {\n",
       "    return false;\n",
       "}\n"
      ],
      "text/plain": [
       "<IPython.core.display.Javascript object>"
      ]
     },
     "metadata": {},
     "output_type": "display_data"
    }
   ],
   "source": [
    "# 셀 자동 펼치기\n",
    "from IPython.display import display, Javascript\n",
    "\n",
    "# 모든 출력을 펼치는 JavaScript 코드\n",
    "javascript = \"\"\"\n",
    "IPython.OutputArea.prototype._should_scroll = function(lines) {\n",
    "    return false;\n",
    "}\n",
    "\"\"\"\n",
    "\n",
    "# JavaScript 코드 실행\n",
    "display(Javascript(javascript))"
   ]
  },
  {
   "cell_type": "markdown",
   "id": "9bc7a2da",
   "metadata": {},
   "source": [
    "### 월별 파일 합치기"
   ]
  },
  {
   "cell_type": "code",
   "execution_count": null,
   "id": "49cdd451",
   "metadata": {},
   "outputs": [],
   "source": [
    "# 파일 경로\n",
    "file_path = \"./data/2023.{}월_29개 통신정보.xlsx\"\n",
    "\n",
    "# 1월부터 9월까지의 데이터를 읽어오는 리스트 생성\n",
    "dataframes = []\n",
    "for month in range(1, 10):\n",
    "    df = pd.read_excel(file_path.format(month))\n",
    "    df['월'] = month  # '월' column 생성\n",
    "    dataframes.append(df)\n",
    "\n",
    "# 각 데이터프레임을 하나로 합치기\n",
    "combined_df = pd.concat(dataframes)\n",
    "combined_df = combined_df.reset_index(drop=True)"
   ]
  },
  {
   "cell_type": "code",
   "execution_count": null,
   "id": "5ca62ba6",
   "metadata": {},
   "outputs": [],
   "source": [
    "# 전처리 함수\n",
    "def preprocessing(df):\n",
    "    df['성별'].replace({1:'M', 2:'F'}, inplace=True)  # 성별 변환\n",
    "    df['연령대'] = df['연령대']//10 * 10  # 10단위 연령대로 적용\n",
    "#     df.drop(df[df['연령대']==70].index, inplace=True)  # 70대 index 제거\n",
    "    df = df.reset_index()\n",
    "    \n",
    "    # 사용할 columns\n",
    "    df = df[['자치구','월','성별','연령대','총인구수',\n",
    "                                  # 가나다 순\n",
    "                                 '게임 서비스 사용일수', '금융 서비스 사용일수','배달 서비스 사용일수','쇼핑 서비스 사용일수',\n",
    "                                  # 여가관련(3개)\n",
    "                                 '동영상/방송 서비스 사용일수','넷플릭스 사용일수','유튜브 사용일수']]\n",
    "    return df"
   ]
  },
  {
   "cell_type": "code",
   "execution_count": null,
   "id": "a498484e",
   "metadata": {},
   "outputs": [],
   "source": [
    "preprocessing(combined_df)"
   ]
  },
  {
   "cell_type": "code",
   "execution_count": null,
   "id": "ac7c7a08",
   "metadata": {},
   "outputs": [],
   "source": [
    "combined_df = preprocessing(combined_df)\n",
    "combined_df.to_excel('./data/month_service_pop.xlsx')"
   ]
  },
  {
   "cell_type": "code",
   "execution_count": null,
   "id": "bae87b7b",
   "metadata": {},
   "outputs": [],
   "source": [
    "# data 불러오기\n",
    "data = pd.read_excel('./data/month_service_pop.xlsx', index_col=0)"
   ]
  },
  {
   "cell_type": "code",
   "execution_count": null,
   "id": "36b7411c",
   "metadata": {},
   "outputs": [],
   "source": [
    "# 각 서비스 사용일수 groupby해서 평균 구하기\n",
    "month_sv = data.groupby(['자치구','연령대','성별','월'])\n",
    "game = month_sv['게임 서비스 사용일수'].mean()\n",
    "finance = month_sv['금융 서비스 사용일수'].mean()\n",
    "delivery = month_sv['배달 서비스 사용일수'].mean()\n",
    "shopping = month_sv['쇼핑 서비스 사용일수'].mean()\n",
    "etc_ott = month_sv['동영상/방송 서비스 사용일수'].mean()\n",
    "netflix = month_sv['넷플릭스 사용일수'].mean()\n",
    "youtube = month_sv['유튜브 사용일수'].mean()\n",
    "total_pop = month_sv['총인구수'].mean()"
   ]
  },
  {
   "cell_type": "code",
   "execution_count": null,
   "id": "50fb9b1b",
   "metadata": {},
   "outputs": [],
   "source": [
    "game.head()"
   ]
  },
  {
   "cell_type": "code",
   "execution_count": null,
   "id": "d8ee0097",
   "metadata": {},
   "outputs": [],
   "source": [
    "# 데이터프레임으로 변환\n",
    "game = game.to_frame().reset_index()\n",
    "finance = finance.to_frame().reset_index()\n",
    "delivery = delivery.to_frame().reset_index()\n",
    "shopping = shopping.to_frame().reset_index()\n",
    "etc_ott = etc_ott.to_frame().reset_index()\n",
    "netflix = netflix.to_frame().reset_index()\n",
    "youtube = youtube.to_frame().reset_index()\n",
    "total_pop = total_pop.to_frame().reset_index()"
   ]
  },
  {
   "cell_type": "code",
   "execution_count": null,
   "id": "f30e161d",
   "metadata": {},
   "outputs": [],
   "source": [
    "game.head()"
   ]
  },
  {
   "cell_type": "code",
   "execution_count": null,
   "id": "3d674d5e",
   "metadata": {},
   "outputs": [],
   "source": [
    "# 엑셀 파일로 출력\n",
    "game.to_excel('./data/game.xlsx')\n",
    "finance.to_excel('./data/finance.xlsx')\n",
    "delivery.to_excel('./data/delivery.xlsx')\n",
    "shopping.to_excel('./data/shopping.xlsx')\n",
    "etc_ott.to_excel('./data/etc_ott.xlsx')\n",
    "netflix.to_excel('./data/netflix.xlsx')\n",
    "youtube.to_excel('./data/youtube.xlsx')\n",
    "total_pop.to_excel('./data/total_pop.xlsx')"
   ]
  },
  {
   "cell_type": "markdown",
   "id": "e9e65d35",
   "metadata": {},
   "source": [
    "### 시각화\n",
    "- 예시로 각 서비스별 **강남구 20대 F(여자)** 의 월별 데이터만 시각화"
   ]
  },
  {
   "cell_type": "code",
   "execution_count": null,
   "id": "366823a4",
   "metadata": {},
   "outputs": [],
   "source": [
    "# # 게임서비스\n",
    "# game = pd.read_excel('./data/game.xlsx')\n",
    "# game_ex = game[(game['자치구']=='강남구') & (game['연령대']==20) & (game['성별']=='F')]\n",
    "# game_ex.plot(x='월',y='게임 서비스 사용일수')\n",
    "# plt.title('월별 게임 서비스 사용일수 변화', pad=15, size=15)\n",
    "    \n",
    "# # 금융서비스\n",
    "# finance = pd.read_excel('./data/finance.xlsx')\n",
    "# finance_ex = finance[(finance['자치구']=='강남구') & (finance['연령대']==20) & (finance['성별']=='F')]\n",
    "# finance_ex.plot(x='월',y='금융 서비스 사용일수')\n",
    "# plt.title('월별 금융 서비스 사용일수 변화', pad=15, size=15)\n",
    "\n",
    "# # 배달서비스\n",
    "# delivery = pd.read_excel('./data/delivery.xlsx')\n",
    "# delivery_ex = delivery[(delivery['자치구']=='강남구') & (delivery['연령대']==20) & (delivery['성별']=='F')]\n",
    "# delivery_ex.plot(x='월',y='배달 서비스 사용일수')\n",
    "# plt.title('월별 배달 서비스 사용일수 변화', pad=15, size=15)\n",
    "\n",
    "# # 쇼핑서비스\n",
    "# shopping = pd.read_excel('./data/shopping.xlsx')\n",
    "# shopping_ex = shopping[(shopping['자치구']=='강남구') & (shopping['연령대']==20) & (shopping['성별']=='F')]\n",
    "# shopping_ex.plot(x='월',y='쇼핑 서비스 사용일수')\n",
    "# plt.title('월별 쇼핑 서비스 사용일수 변화', pad=15, size=15)\n",
    "\n",
    "# # 동영상/방송서비스\n",
    "# etc_ott = pd.read_excel('./data/etc_ott.xlsx')\n",
    "# etc_ott_ex = etc_ott[(etc_ott['자치구']=='강남구') & (etc_ott['연령대']==20) & (etc_ott['성별']=='F')]\n",
    "# etc_ott_ex.plot(x='월',y='동영상/방송 서비스 사용일수')\n",
    "# plt.title('월별 동영상/방송 서비스 사용일수 변화', pad=15, size=15)\n",
    "\n",
    "# # 넷플릭스\n",
    "# netflix = pd.read_excel('./data/netflix.xlsx')\n",
    "# netflix_ex = netflix[(netflix['자치구']=='강남구') & (netflix['연령대']==20) & (netflix['성별']=='F')]\n",
    "# netflix_ex.plot(x='월',y='넷플릭스 사용일수')\n",
    "# plt.title('월별 넷플릭스 사용일수 변화', pad=15, size=15)\n",
    "\n",
    "# # 유튜브\n",
    "# youtube = pd.read_excel('./data/youtube.xlsx')\n",
    "# youtube_ex = youtube[(youtube['자치구']=='강남구') & (youtube['연령대']==20) & (youtube['성별']=='F')]\n",
    "# youtube_ex.plot(x='월',y='유튜브 사용일수')\n",
    "# plt.title('월별 유튜브 사용일수 변화', pad=15, size=15)\n",
    "\n",
    "# # 총인구수\n",
    "# total_pop = pd.read_excel('./data/total_pop.xlsx')\n",
    "# total_pop_ex = total_pop[(total_pop['자치구']=='강남구') & (total_pop['연령대']==20) & (total_pop['성별']=='F')]\n",
    "# total_pop_ex.plot(x='월',y='총인구수')\n",
    "# plt.title('월별 총인구수 변화', pad=15, size=15)"
   ]
  },
  {
   "cell_type": "code",
   "execution_count": null,
   "id": "9e8c60e4",
   "metadata": {},
   "outputs": [],
   "source": [
    "# import pandas as pd\n",
    "# import matplotlib.pyplot as plt\n",
    "\n",
    "# # 데이터 로드\n",
    "# game = pd.read_excel('./data/game.xlsx')\n",
    "# finance = pd.read_excel('./data/finance.xlsx')\n",
    "# delivery = pd.read_excel('./data/delivery.xlsx')\n",
    "# shopping = pd.read_excel('./data/shopping.xlsx')\n",
    "# etc_ott = pd.read_excel('./data/etc_ott.xlsx')\n",
    "# netflix = pd.read_excel('./data/netflix.xlsx')\n",
    "# youtube = pd.read_excel('./data/youtube.xlsx')\n",
    "# total_pop = pd.read_excel('./data/total_pop.xlsx')\n",
    "\n",
    "# # 서비스 데이터프레임 리스트\n",
    "# services = [\n",
    "#     ('게임 서비스 사용일수', game),\n",
    "#     ('금융 서비스 사용일수', finance),\n",
    "#     ('배달 서비스 사용일수', delivery),\n",
    "#     ('쇼핑 서비스 사용일수', shopping),\n",
    "#     ('동영상/방송 서비스 사용일수', etc_ott),\n",
    "#     ('넷플릭스 사용일수', netflix),\n",
    "#     ('유튜브 사용일수', youtube),\n",
    "#     ('총인구수', total_pop)]\n",
    "\n",
    "\n",
    "# # 조건들\n",
    "# districts =[\n",
    "#     \"강남구\", \"강동구\", \"강북구\", \"강서구\", \"관악구\",\n",
    "#     \"광진구\", \"구로구\", \"금천구\", \"노원구\", \"도봉구\",\n",
    "#     \"동대문구\", \"동작구\", \"마포구\", \"서대문구\", \"서초구\",\n",
    "#     \"성동구\", \"성북구\", \"송파구\", \"양천구\", \"영등포구\",\n",
    "#     \"용산구\", \"은평구\", \"종로구\", \"중구\", \"중랑구\"]\n",
    "# age_groups = [20, 30, 40, 50, 60, 70]\n",
    "# genders = ['F', 'M']\n",
    "\n",
    "# # 그래프 생성 및 저장\n",
    "# for service_name, df in services:\n",
    "#     for district in districts:\n",
    "#         for age in age_groups:\n",
    "#             for gender in genders:\n",
    "#                 # 데이터 필터링\n",
    "#                 filtered_df = df[(df['자치구'] == district) & (df['연령대'] == age) & (df['성별'] == gender)]\n",
    "                \n",
    "#                 # 데이터가 있을 경우에만 그래프 생성\n",
    "#                 if not filtered_df.empty:\n",
    "#                     plt.figure()\n",
    "#                     filtered_df.plot(x='월', y=service_name, style='o-')\n",
    "#                     plt.title(f'{district} {age}대 {gender} 월별 {service_name} 변화', pad=15, size=15)\n",
    "                    \n",
    "#                     # 그래프 저장\n",
    "#                     plt.savefig(f'./graph/{district}_{age}대_{gender}_월별_{service_name}_변화.png')\n",
    "#                     plt.close()\n",
    "                "
   ]
  },
  {
   "cell_type": "code",
   "execution_count": null,
   "id": "0c37add3",
   "metadata": {},
   "outputs": [],
   "source": [
    "import pandas as pd\n",
    "import matplotlib.pyplot as plt\n",
    "\n",
    "# 데이터 로드\n",
    "game = pd.read_excel('./data/game.xlsx')\n",
    "finance = pd.read_excel('./data/finance.xlsx')\n",
    "delivery = pd.read_excel('./data/delivery.xlsx')\n",
    "shopping = pd.read_excel('./data/shopping.xlsx')\n",
    "etc_ott = pd.read_excel('./data/etc_ott.xlsx')\n",
    "netflix = pd.read_excel('./data/netflix.xlsx')\n",
    "youtube = pd.read_excel('./data/youtube.xlsx')\n",
    "total_pop = pd.read_excel('./data/total_pop.xlsx')\n",
    "\n",
    "# 서비스 데이터프레임 리스트\n",
    "services = [\n",
    "    ('게임 서비스 사용일수', game),\n",
    "    ('금융 서비스 사용일수', finance),\n",
    "    ('배달 서비스 사용일수', delivery),\n",
    "    ('쇼핑 서비스 사용일수', shopping),\n",
    "    ('동영상/방송 서비스 사용일수', etc_ott),\n",
    "    ('넷플릭스 사용일수', netflix),\n",
    "    ('유튜브 사용일수', youtube),\n",
    "    ('총인구수', total_pop)]\n",
    "\n",
    "# 25구 * 6개 연령대 * 2개 성별 * 서비스 8개 = 2,400개 그래프\n",
    "# 조건들\n",
    "districts = [\n",
    "    \"강남구\", \"강동구\", \"강북구\", \"강서구\", \"관악구\",\n",
    "    \"광진구\", \"구로구\", \"금천구\", \"노원구\", \"도봉구\",\n",
    "    \"동대문구\", \"동작구\", \"마포구\", \"서대문구\", \"서초구\",\n",
    "    \"성동구\", \"성북구\", \"송파구\", \"양천구\", \"영등포구\",\n",
    "    \"용산구\", \"은평구\", \"종로구\", \"중구\", \"중랑구\"]\n",
    "age_groups = [20, 30, 40, 50, 60, 70]\n",
    "gender_map = {'F': '여성', 'M': '남성'}\n",
    "\n",
    "# 그래프 생성 및 저장\n",
    "for service_name, df in services:\n",
    "    for district in districts:\n",
    "        for age in age_groups:\n",
    "            for gender_key, gender_value in gender_map.items():\n",
    "                # 데이터 필터링\n",
    "                filtered_df = df[(df['자치구'] == district) & (df['연령대'] == age) & (df['성별'] == gender_key)]\n",
    "                \n",
    "                # 데이터가 있을 경우에만 그래프 생성\n",
    "                if not filtered_df.empty:\n",
    "                    plt.figure()\n",
    "                    filtered_df.plot(x='월', y=service_name, style='o-')\n",
    "                    plt.title(f'{district} {age}대 {gender_value} 월별 {service_name} 변화', pad=15, size=15)\n",
    "                    \n",
    "                    # 그래프에 월별 데이터 표기\n",
    "                    for x, y in zip(filtered_df['월'], filtered_df[service_name]):\n",
    "                        plt.text(x, y, f'{y:.1f}', ha='center', va='bottom')\n",
    "                    \n",
    "                    plt.savefig(f'./graph/{district}_{age}대_{gender_value}_월별_{service_name}_변화.png')\n",
    "                    plt.close()"
   ]
  }
 ],
 "metadata": {
  "kernelspec": {
   "display_name": "Python 3 (ipykernel)",
   "language": "python",
   "name": "python3"
  },
  "language_info": {
   "codemirror_mode": {
    "name": "ipython",
    "version": 3
   },
   "file_extension": ".py",
   "mimetype": "text/x-python",
   "name": "python",
   "nbconvert_exporter": "python",
   "pygments_lexer": "ipython3",
   "version": "3.11.5"
  }
 },
 "nbformat": 4,
 "nbformat_minor": 5
}
