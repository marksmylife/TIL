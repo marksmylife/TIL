{
 "cells": [
  {
   "cell_type": "code",
   "execution_count": null,
   "id": "7c127cfc",
   "metadata": {},
   "outputs": [],
   "source": [
    "import pandas as pd\n"
   ]
  },
  {
   "cell_type": "code",
   "execution_count": 63,
   "id": "f7d924df",
   "metadata": {},
   "outputs": [],
   "source": [
    "# 파일명 리스트\n",
    "file_names = [\n",
    "    '서울시 상권분석서비스(길단위인구-행정동).csv',\n",
    "    '서울시 상권분석서비스(상주인구-행정동).csv',\n",
    "    '서울시 상권분석서비스(소득소비-행정동).csv',\n",
    "    '서울시 상권분석서비스(영역-행정동).csv',\n",
    "    '서울시 상권분석서비스(점포-행정동).csv',\n",
    "    '서울시 상권분석서비스(추정매출-행정동).csv']\n",
    "\n",
    "# 데이터프레임 리스트 초기화\n",
    "df_list = []\n",
    "\n",
    "# 각 파일명에 대해 반복\n",
    "for file_name in file_names:\n",
    "    # 파일 경로 생성 및 데이터 불러오기\n",
    "    df = pd.read_csv(f'./data/{file_name}', dtype=str, encoding='CP949')\n",
    "\n",
    "    # '행정동_코드'가 '1144'로 시작하는 행 필터링\n",
    "    filtered_df = df[df['행정동_코드'].str.startswith('1144')]\n",
    "    \n",
    "    # '기준_년분기_코드' 컬럼이 있으면 해당 조건도 적용\n",
    "    if '기준_년분기_코드' in df.columns:\n",
    "        filtered_df = filtered_df[filtered_df['기준_년분기_코드'] == '20232']\n",
    "\n",
    "    # 데이터프레임 리스트에 추가\n",
    "    df_list.append(filtered_df)\n",
    "\n",
    "# 각 데이터프레임에 이름 할당 (dong_load, dong_pop, dong_consumption, dong_area, dong_store, dong_sales)\n",
    "dong_load, dong_pop, dong_consumption, dong_area, dong_store, dong_sales = df_list"
   ]
  },
  {
   "cell_type": "code",
   "execution_count": 70,
   "id": "5580ee18",
   "metadata": {},
   "outputs": [
    {
     "ename": "SyntaxError",
     "evalue": "invalid decimal literal (1038735746.py, line 3)",
     "output_type": "error",
     "traceback": [
      "\u001b[1;36m  Cell \u001b[1;32mIn[70], line 3\u001b[1;36m\u001b[0m\n\u001b[1;33m    dong_load = ['총_유동인구_수'.0f]\u001b[0m\n\u001b[1;37m                            ^\u001b[0m\n\u001b[1;31mSyntaxError\u001b[0m\u001b[1;31m:\u001b[0m invalid decimal literal\n"
     ]
    }
   ],
   "source": [
    "# '행정동_코드_명'과 '총_유동인구_수' 열만 선택\n",
    "dong_load = dong_load[['행정동_코드_명', '총_유동인구_수']].sort_values('총_유동인구_수',ascending=True).reset_index(drop=True)\n",
    "# 결과 확인\n",
    "dong_load.head(20)"
   ]
  },
  {
   "cell_type": "code",
   "execution_count": null,
   "id": "d288fc7b",
   "metadata": {},
   "outputs": [],
   "source": []
  }
 ],
 "metadata": {
  "kernelspec": {
   "display_name": "Python 3 (ipykernel)",
   "language": "python",
   "name": "python3"
  },
  "language_info": {
   "codemirror_mode": {
    "name": "ipython",
    "version": 3
   },
   "file_extension": ".py",
   "mimetype": "text/x-python",
   "name": "python",
   "nbconvert_exporter": "python",
   "pygments_lexer": "ipython3",
   "version": "3.11.5"
  }
 },
 "nbformat": 4,
 "nbformat_minor": 5
}
