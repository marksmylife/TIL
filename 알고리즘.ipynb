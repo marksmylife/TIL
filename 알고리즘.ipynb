{
 "cells": [
  {
   "cell_type": "markdown",
   "id": "766709cf",
   "metadata": {},
   "source": [
    "## 알고리즘 "
   ]
  },
  {
   "cell_type": "markdown",
   "id": "0bb2b411",
   "metadata": {},
   "source": [
    "### 기본사항\n",
    "* 자료구조 : 요리의 재료 + 다듬는 법\n",
    "    * 선형 자료구조\n",
    "        * 리스트\n",
    "            * 선형(순차) : 배열, 빈틈 없음 / 장)공간(비용) 절약, 전체 접근 빠름 / 단)삽입,삭제 시 오버헤드 발생\n",
    "            * 단순 연결 : 노드 / 장)삭입,삭제 시 오버헤드 X / 단)공간 더 필요(비용 비쌈), 전체 접근 느림 / 마지막 노드? Link==None\n",
    "            * 원형 연결 : 마지막 노드? Link==Head\n",
    "        * 스택 : 선입후출, 후입선출 / 한 쪽이 막힌 구조        \n",
    "        * 큐 : 순차(일반), 원형(환형)\n",
    "    * 비선형 자료구조\n",
    "        * 트리 : 이진, (쿼드)\n",
    "        * 그래프\n",
    "    \n",
    "* 알고리즘 : 요리법\n",
    "    * 정렬 : 선택 정렬, (버블 정렬), (퀵 정렬)\n",
    "    * 검색 : 순차 검색, 이진 검색\n",
    "    * 재귀 : 다양한 사례\n",
    "    \n",
    "* IT 전문가 : 도매인 지식 + 프로그래밍 실력 + 4차산업기술(데이터, AI, 클라우드, 자율주행 등)\n",
    "    * 필수역량 : 코딩 > 다 어렵다! > 오래걸린다 > 꾸준함\n",
    "    * 프로그래밍 실력 >>> 자료구조/알고리즘"
   ]
  },
  {
   "cell_type": "markdown",
   "id": "ae59b6a8",
   "metadata": {},
   "source": [
    "### 선형리스트(=순차리스트(ordere list))\n",
    "* 데이터 일정한 순서로 나열한 자료구조\n",
    "\n",
    "* 입력 순서대로 저장하는 데이터에 적당\n",
    "\n",
    "* 데이터 삽입 시 오버헤드 발생"
   ]
  },
  {
   "cell_type": "markdown",
   "id": "ba64b94e",
   "metadata": {},
   "source": [
    "### (단순)연결 리스트\n",
    "* 떨어진 곳에 위치한 데이터를 링크(연결)로 연결한 것\n",
    "\n",
    "* 노드 : 데이터 + 링크\n",
    "\n",
    "* 데이터 삽입 시 오버헤드 없음\n",
    "\n",
    "* head : 연결 리스트의 첫 번째 노드\n",
    "\n",
    "* pre : 현재 처리 중인 노드의 바로 앞 노드\n",
    "\n",
    "* current : 현재 처리 중인 노드"
   ]
  },
  {
   "cell_type": "markdown",
   "id": "b6ea565b",
   "metadata": {},
   "source": [
    "### 스택\n",
    "* 정의 : 선입후출, 후입선출 / 한 쪽이 막힌 구조\n",
    "* 기본 구조 : 데이터 삽입(push) / 데이터 추출(pop) / 자료(top)\n",
    "    * isStackFull()? top==SIZE-1\n",
    "* 실무\n",
    "    * 함수호출 : A() push/pop > B() push/pop > C() push/pop > D() return\n",
    "    * 괄호검사 : ((()())()) / ( push, ) pop"
   ]
  },
  {
   "cell_type": "markdown",
   "id": "2f1f968e",
   "metadata": {},
   "source": [
    "### 큐\n",
    "* 순차 큐 \n",
    "    * 정의 : 선입선출 / 양 쪽이 뚫린 파이프\n",
    "    * 기본 구조데이터 삽입(인큐) / 데이터 추출(데큐) / 저장데이터 중 첫번째의 앞(front)마지막(rear), \n",
    "        * isQueueEmpty() : front==rear / isQueueFull() : rear==SIZE-1 > 개선(3가지), 오버헤드 발생\n",
    "\n",
    "* 원형 큐\n",
    "    * 정의 : 꼬리가 다시 머리로 연결\n",
    "    * 특징 : 1칸은 사용 제한((front==rear 같아지니까)\n",
    "    * %SIZE, front=rear=0, iuQueueFull() : rear+1==front"
   ]
  },
  {
   "cell_type": "markdown",
   "id": "bdbf58e6",
   "metadata": {},
   "source": [
    "### 이진 트리\n",
    "* 종류 : 포화, 완전, 일반, 편향\n",
    "* 노드 구조 : (왼쪽 링크)(데이터)(오른쪽 링크)"
   ]
  },
  {
   "cell_type": "markdown",
   "id": "20c4ab30",
   "metadata": {},
   "source": [
    "### 알고리즘\n",
    "* 어떤 문제를 해결해 가는 논리적 과정\n",
    "\n",
    "* 표현법\n",
    "    * 순서도 : 간단한 알고리즘 쉽게 표현, 복잡한 알고리즘 표현 제한\n",
    "    * 의사코드 : 프로그램 코드와 일반언어의 중간 형태\n",
    "    \n",
    "* 성능 표기\n",
    "    * 시간 복잡도(Time Complexity) : 말로는 시간이지만 실제는 연산수(x=데이터개수, y=시간(연산수)\n",
    "    * 빅-오 표기법(Big-oh Notation)\n",
    "                                                  \n",
    "* 종류\n",
    "    * 정렬 : 자료를 순서대로 나열한 것\n",
    "        * 알고리즘\n",
    "            * 선택 정렬 : 데이터 중 가장 최솟값을 반복 추출하여 정렬\n",
    "            * 삽입, 버블, 퀵 정렬\n",
    "    * 검색\n",
    "        * 순차 검색 : 데이터 정렬되지 않을 때, 차례로 찾는 것, 비효율 적\n",
    "        * 이진 검색 : 데이터 정렬되어 있을 대, 순차 검색에 비해 효율적 예)로그인, 메신저 등\n",
    "            * 전체를 반으로 잘라 한쪽을 버림\n",
    "        * 트리 검색 \n",
    "    * 재귀\n",
    "        * 단점 : 헷갈린다, 느리다"
   ]
  }
 ],
 "metadata": {
  "kernelspec": {
   "display_name": "Python 3 (ipykernel)",
   "language": "python",
   "name": "python3"
  },
  "language_info": {
   "codemirror_mode": {
    "name": "ipython",
    "version": 3
   },
   "file_extension": ".py",
   "mimetype": "text/x-python",
   "name": "python",
   "nbconvert_exporter": "python",
   "pygments_lexer": "ipython3",
   "version": "3.11.5"
  }
 },
 "nbformat": 4,
 "nbformat_minor": 5
}
