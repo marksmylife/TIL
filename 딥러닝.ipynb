{
 "cells": [
  {
   "cell_type": "markdown",
   "id": "e9d1ff2b",
   "metadata": {},
   "source": [
    "## 순환신경망\n",
    "* 정의\n",
    "    * 퀀스 데이터를 처리하는 데 특화된 인공 신경망의 한 종류입니다.\n",
    "    * 전통적인 신경망과 달리, 순환신경망은 시퀀스의 요소들 사이의 시간적인 순서를 고려할 수 있도록 설계되어 있습니다.\n",
    "    * 이는 시퀀스 내에서 이전의 정보를 기억하고, 현재의 출력에 이전 단계의 정보를 연속적으로 전달함으로써 달성됩니다.\n",
    "    \n",
    "* 활용 : 시계열 분석이나 순차적 데이터(워드 데이터) 등 활용\n",
    "\n",
    "* 활성화 함수 : 하이퍼볼릭 탄젠트 함수(Hyperbolic Tangent) / (-1 ~ +1)\n",
    "    * 시그모이드보다 출력 범위가 넓음    \n",
    "    \n",
    "* 파라미터계산 : (Input Weights) + (Recurrent Weights) + (Biases)\n",
    "                (i * h) + (h * h) + (h)\n",
    "    * 입력 가중치: 각 유닛은 입력 벡터의 각 차원에 대한 가중치\n",
    "        * 입력 벡터의 크기가 i이고, 은닉 상태의 크기가 h라면, 입력에 대한 가중치는 i * h입니다.\n",
    "    * 재귀적 가중치: 각 유닛은 이전 타임스텝의 은닉 상태의 각 유닛에 대한 가중치를 가집니다. 이는 h * h입니다.\n",
    "    * 편향: 각 유닛에는 하나의 편향 값이 있습니다. 즉, h개의 편향이 있습니다.\n",
    "    \n",
    "* 알고리즘\n",
    "    * 케라스의 가장 간단한 순환신경망 알고리즘 : simpleRNN(뉴런갯수, 입력차원)\n",
    "    * 순환신경망 데이터(웟-핫 인코딩) : 샘플수 * 타임스텝(토큰수)"
   ]
  },
  {
   "cell_type": "markdown",
   "id": "85874c4f",
   "metadata": {},
   "source": [
    "## LSTM(Long Short Term Memory)\n",
    "* 순환신경망의 한 종류, RNN의 장기 의존성 문제 해결위한 모델\n",
    "    * 바로 직전 데이터 + 좀 더 과거데이터 고려 > 미래 데이터 예측\n",
    "    ![](https://wikidocs.net/images/page/152773/2.JPG)\n",
    "* cell state\n",
    "* forget gate layer\n",
    "    * input(ht-1, xt) > 시그모이드\n",
    "* input gate layer\n",
    "    * input(ht-1, xt) > 시그모이드 > output(it:0~1)\n",
    "    * 출력값이 1이 나오면 RNN과 마찬가지로 ht-1, xt > tanh > 출력값으로 반환 > cell state에 더함\n",
    "    * 예) 언어모델 예제 주어바뀔 때 앞선 주어 삭제하고 새로운 주어 저장\n",
    "* cell state 업데이터\n",
    "    * 과거 정보 삭제, 유지에 대해 forgetting gate 통해 결정\n",
    "    * 현재 input값 반영 여부는 input gate에서 결정\n",
    "    * 최종적으로 더해져 > 다음 cell state의 입력값이 됨\n",
    "* output gate layer\n",
    "    * output은 cell state 바탕으로 필터된 값\n",
    "    * 단기 아웃풋 + 장기 아웃풋 > tanh * > 다음 장기기억\n",
    "* 참고자료 : https://wikidocs.net/152773"
   ]
  }
 ],
 "metadata": {
  "kernelspec": {
   "display_name": "Python 3 (ipykernel)",
   "language": "python",
   "name": "python3"
  },
  "language_info": {
   "codemirror_mode": {
    "name": "ipython",
    "version": 3
   },
   "file_extension": ".py",
   "mimetype": "text/x-python",
   "name": "python",
   "nbconvert_exporter": "python",
   "pygments_lexer": "ipython3",
   "version": "3.11.5"
  }
 },
 "nbformat": 4,
 "nbformat_minor": 5
}
