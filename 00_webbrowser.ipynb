{
 "cells": [
  {
   "cell_type": "markdown",
   "id": "fdc03d37-c483-473b-965c-048b376920e8",
   "metadata": {},
   "source": [
    "### webbrowser 컨트롤\n",
    "- webbrowser 모듈"
   ]
  },
  {
   "cell_type": "code",
   "execution_count": 1,
   "id": "092f3916-6ce9-4199-a2cd-131125b1177b",
   "metadata": {},
   "outputs": [],
   "source": [
    "import webbrowser"
   ]
  },
  {
   "cell_type": "markdown",
   "id": "cf528c75-f7cc-4f6e-abf5-fc665ee4ce6f",
   "metadata": {},
   "source": [
    "### 브라우저 실행 : webbrowser.open('url')\n",
    "- 매개변수 : url을 전달(접속하고자 하는 웹 사이트)\n",
    "    - url은 파라미터를 포함 할 수 있음\n",
    "    - https://search.naver.com/search.naver?where=nexearch&sm=top_hty&fbm=0&ie=utf8&query=python\n",
    "        - https://search.naver.com/search.naver?검색을 위한 필수 주소\n",
    "        - where=nexearch&sm=top_hty&fbm=0&ie=utf8&query=python - 서버에 전달되는 파라미터(query=검색어)\n",
    "- 반환값이 True면 브라우저 실행이 정상 완료\n",
    "\n",
    "- 통신 규칙\n",
    "    - url은 ? 기호를 통해 도메인과 파라미터를 구분\n",
    "    - & 기호를 통해서 파라미터 간 구분을 함 "
   ]
  },
  {
   "cell_type": "code",
   "execution_count": 3,
   "id": "071afeb3-0a2c-4ab9-9c95-743af19cba24",
   "metadata": {},
   "outputs": [
    {
     "data": {
      "text/plain": [
       "True"
      ]
     },
     "execution_count": 3,
     "metadata": {},
     "output_type": "execute_result"
    }
   ],
   "source": [
    "# 코드를 사용 네이버 사이트에 접속 브라우저를 통해 접속\n",
    "url = 'www.naver.com' # 네이버 도메인\n",
    "\n",
    "webbrowser.open(url)"
   ]
  },
  {
   "cell_type": "code",
   "execution_count": 4,
   "id": "cd55b173-2281-44d2-bd5a-96e6af330acf",
   "metadata": {},
   "outputs": [
    {
     "data": {
      "text/plain": [
       "'https://search.naver.com/search.naver?query=django'"
      ]
     },
     "execution_count": 4,
     "metadata": {},
     "output_type": "execute_result"
    }
   ],
   "source": [
    "# 검색어 적용\n",
    "s_url = 'https://search.naver.com/search.naver?'\n",
    "search = 'query=django'\n",
    "url = s_url + search\n",
    "url"
   ]
  },
  {
   "cell_type": "code",
   "execution_count": 5,
   "id": "23ced32e-0b01-400e-b326-bbba1d8c4625",
   "metadata": {},
   "outputs": [
    {
     "data": {
      "text/plain": [
       "True"
      ]
     },
     "execution_count": 5,
     "metadata": {},
     "output_type": "execute_result"
    }
   ],
   "source": [
    "webbrowser.open(url)"
   ]
  },
  {
   "cell_type": "markdown",
   "id": "1cc2998b-f6af-419f-8860-2dcc569ce338",
   "metadata": {},
   "source": [
    "### 단, 검색어를  url에 적용시키는 방법은 site마다 다르다\n",
    "- 구글 검색 URL\n",
    "    - https://www.google.com/search?q=python&oq=python&aqs=chrome..69i57j69i59j0i131i433i512l8.1172j0j15&sourceid=chrome&ie=UTF-8\n",
    "    - 기본 url : https://www.google.com/search?\n",
    "    - 검색파라미터 : q=검색어"
   ]
  },
  {
   "cell_type": "code",
   "execution_count": 9,
   "id": "ed5bac6c-63f7-461f-9a22-cd38ee5ecaca",
   "metadata": {},
   "outputs": [
    {
     "data": {
      "text/plain": [
       "'https://www.google.com/search?q=django'"
      ]
     },
     "execution_count": 9,
     "metadata": {},
     "output_type": "execute_result"
    }
   ],
   "source": [
    "# 구글에 검색어 전송\n",
    "# 검색어 적용\n",
    "s_url = 'https://www.google.com/search?'\n",
    "search = 'q=django'\n",
    "url = s_url + search\n",
    "url"
   ]
  },
  {
   "cell_type": "code",
   "execution_count": 10,
   "id": "bf2b0b48-658a-4f48-8599-b7f4ca91bcf7",
   "metadata": {},
   "outputs": [
    {
     "data": {
      "text/plain": [
       "True"
      ]
     },
     "execution_count": 10,
     "metadata": {},
     "output_type": "execute_result"
    }
   ],
   "source": [
    "webbrowser.open(url)"
   ]
  },
  {
   "cell_type": "code",
   "execution_count": null,
   "id": "64012ffa-1b40-456b-b27c-a4c01e54d97a",
   "metadata": {},
   "outputs": [],
   "source": []
  }
 ],
 "metadata": {
  "kernelspec": {
   "display_name": "Python 3 (ipykernel)",
   "language": "python",
   "name": "python3"
  },
  "language_info": {
   "codemirror_mode": {
    "name": "ipython",
    "version": 3
   },
   "file_extension": ".py",
   "mimetype": "text/x-python",
   "name": "python",
   "nbconvert_exporter": "python",
   "pygments_lexer": "ipython3",
   "version": "3.8.10"
  }
 },
 "nbformat": 4,
 "nbformat_minor": 5
}
